{
 "cells": [
  {
   "cell_type": "markdown",
   "id": "6e284572-1db2-4d32-88fb-f3c28cec432e",
   "metadata": {},
   "source": [
    "# Resale Flat Prices\n",
    "\n",
    "## Summary\n",
    "- Data source: [Resale flat prices based on registration date from Jan-2017 onwards](https://beta.data.gov.sg/datasets/d_8b84c4ee58e3cfc0ece0d773c8ca6abc/view)\n",
    "  - Time range: `Jan 2017 - Apr 2024`\n",
    "  - The approximate floor area includes any recess area purchased, space adding item under HDB’s upgrading programmes, roof terrace, etc."
   ]
  },
  {
   "cell_type": "code",
   "execution_count": 1,
   "id": "649b4682-2f49-4e11-905e-c7b0650a17f7",
   "metadata": {},
   "outputs": [],
   "source": [
    "from pyspark.sql import SparkSession\n",
    "import matplotlib.pyplot as plt\n",
    "import seaborn as sns\n",
    "import pandas as pd"
   ]
  },
  {
   "cell_type": "code",
   "execution_count": 2,
   "id": "7d882f94-de33-4f16-913b-8df5068422e4",
   "metadata": {},
   "outputs": [
    {
     "data": {
      "text/html": [
       "\n",
       "            <div>\n",
       "                <p><b>SparkSession - in-memory</b></p>\n",
       "                \n",
       "        <div>\n",
       "            <p><b>SparkContext</b></p>\n",
       "\n",
       "            <p><a href=\"http://86a463bf64e2:4040\">Spark UI</a></p>\n",
       "\n",
       "            <dl>\n",
       "              <dt>Version</dt>\n",
       "                <dd><code>v3.5.0</code></dd>\n",
       "              <dt>Master</dt>\n",
       "                <dd><code>spark://spark-master:7077</code></dd>\n",
       "              <dt>AppName</dt>\n",
       "                <dd><code>PySpark Example</code></dd>\n",
       "            </dl>\n",
       "        </div>\n",
       "        \n",
       "            </div>\n",
       "        "
      ],
      "text/plain": [
       "<pyspark.sql.session.SparkSession at 0x7f42f3453190>"
      ]
     },
     "execution_count": 2,
     "metadata": {},
     "output_type": "execute_result"
    }
   ],
   "source": [
    "spark = SparkSession.builder \\\n",
    "        .appName(\"PySpark Example\") \\\n",
    "        .master(spark_master) \\\n",
    "        .config(\"spark.jars.packages\", \"io.delta:delta-spark_2.12:3.0.0\") \\\n",
    "        .config(\"spark.sql.extensions\", \"io.delta.sql.DeltaSparkSessionExtension\") \\\n",
    "        .config(\"spark.sql.catalog.spark_catalog\", \"org.apache.spark.sql.delta.catalog.DeltaCatalog\") \\\n",
    "        .config(\"spark.eventLog.enabled\", \"true\") \\\n",
    "        .config(\"spark.eventLog.dir\", \"/opt/data/spark-events\") \\\n",
    "        .config(\"spark.history.fs.logDirectory\", \"/opt/data/spark-events\") \\\n",
    "        .config(\"spark.sql.warehouse.dir\", \"/opt/data/spark-warehouse\") \\\n",
    "        .config(\"spark.executor.instances\", \"1\") \\\n",
    "        .getOrCreate()\n",
    "\n",
    "spark"
   ]
  },
  {
   "cell_type": "markdown",
   "id": "f083a5b9-e4ce-4c3b-9cfa-1814b57dcdea",
   "metadata": {},
   "source": [
    "## Load Source Data"
   ]
  },
  {
   "cell_type": "code",
   "execution_count": 3,
   "id": "6c27f1f0-771f-418b-b5a7-e5b070167b52",
   "metadata": {},
   "outputs": [
    {
     "name": "stdout",
     "output_type": "stream",
     "text": [
      "+-------------------+----------+---------+-----+-----------------+------------+--------------+--------------+-------------------+------------------+------------+\n",
      "|              month|      town|flat_type|block|      street_name|storey_range|floor_area_sqm|    flat_model|lease_commence_date|   remaining_lease|resale_price|\n",
      "+-------------------+----------+---------+-----+-----------------+------------+--------------+--------------+-------------------+------------------+------------+\n",
      "|2017-01-01 00:00:00|ANG MO KIO|   2 ROOM|  406|ANG MO KIO AVE 10|    10 TO 12|          44.0|      Improved|               1979|61 years 04 months|    232000.0|\n",
      "|2017-01-01 00:00:00|ANG MO KIO|   3 ROOM|  108| ANG MO KIO AVE 4|    01 TO 03|          67.0|New Generation|               1978|60 years 07 months|    250000.0|\n",
      "|2017-01-01 00:00:00|ANG MO KIO|   3 ROOM|  602| ANG MO KIO AVE 5|    01 TO 03|          67.0|New Generation|               1980|62 years 05 months|    262000.0|\n",
      "|2017-01-01 00:00:00|ANG MO KIO|   3 ROOM|  465|ANG MO KIO AVE 10|    04 TO 06|          68.0|New Generation|               1980| 62 years 01 month|    265000.0|\n",
      "|2017-01-01 00:00:00|ANG MO KIO|   3 ROOM|  601| ANG MO KIO AVE 5|    01 TO 03|          67.0|New Generation|               1980|62 years 05 months|    265000.0|\n",
      "|2017-01-01 00:00:00|ANG MO KIO|   3 ROOM|  150| ANG MO KIO AVE 5|    01 TO 03|          68.0|New Generation|               1981|          63 years|    275000.0|\n",
      "|2017-01-01 00:00:00|ANG MO KIO|   3 ROOM|  447|ANG MO KIO AVE 10|    04 TO 06|          68.0|New Generation|               1979|61 years 06 months|    280000.0|\n",
      "|2017-01-01 00:00:00|ANG MO KIO|   3 ROOM|  218| ANG MO KIO AVE 1|    04 TO 06|          67.0|New Generation|               1976|58 years 04 months|    285000.0|\n",
      "|2017-01-01 00:00:00|ANG MO KIO|   3 ROOM|  447|ANG MO KIO AVE 10|    04 TO 06|          68.0|New Generation|               1979|61 years 06 months|    285000.0|\n",
      "|2017-01-01 00:00:00|ANG MO KIO|   3 ROOM|  571| ANG MO KIO AVE 3|    01 TO 03|          67.0|New Generation|               1979|61 years 04 months|    285000.0|\n",
      "+-------------------+----------+---------+-----+-----------------+------------+--------------+--------------+-------------------+------------------+------------+\n",
      "only showing top 10 rows\n",
      "\n"
     ]
    }
   ],
   "source": [
    "source_df = spark.read.csv('/opt/data/datasets/ResaleflatpricesbasedonregistrationdatefromJan2017onwards.csv', header=True, inferSchema=True)\n",
    "source_df.show(10)"
   ]
  },
  {
   "cell_type": "code",
   "execution_count": 4,
   "id": "7dedfa91-60eb-46b6-8979-c3c075d49777",
   "metadata": {},
   "outputs": [],
   "source": [
    "source_df.write.format(\"delta\").mode(\"overwrite\").saveAsTable(\"resale_flat_prices\")"
   ]
  },
  {
   "cell_type": "code",
   "execution_count": 5,
   "id": "8b3e90c4-8f97-4bd3-9fe6-07d63ee4b006",
   "metadata": {},
   "outputs": [
    {
     "name": "stdout",
     "output_type": "stream",
     "text": [
      "+---------+------------------+-----------+\n",
      "|namespace|         tableName|isTemporary|\n",
      "+---------+------------------+-----------+\n",
      "|  default|resale_flat_prices|      false|\n",
      "+---------+------------------+-----------+\n",
      "\n"
     ]
    }
   ],
   "source": [
    "spark.sql(\"show tables\").show()"
   ]
  },
  {
   "cell_type": "code",
   "execution_count": 6,
   "id": "8b572ee9-e290-4714-be79-f2153dfac4fc",
   "metadata": {},
   "outputs": [
    {
     "name": "stdout",
     "output_type": "stream",
     "text": [
      "+-------------------+-------+---------+-----+----------------+------------+--------------+-----------------+-------------------+------------------+------------+\n",
      "|              month|   town|flat_type|block|     street_name|storey_range|floor_area_sqm|       flat_model|lease_commence_date|   remaining_lease|resale_price|\n",
      "+-------------------+-------+---------+-----+----------------+------------+--------------+-----------------+-------------------+------------------+------------+\n",
      "|2021-10-01 00:00:00|PUNGGOL|   4 ROOM| 661B| EDGEDALE PLAINS|    07 TO 09|          92.0|Premium Apartment|               2017|94 years 08 months|    480000.0|\n",
      "|2021-10-01 00:00:00|PUNGGOL|   5 ROOM| 161A|    PUNGGOL CTRL|    04 TO 06|         114.0|Premium Apartment|               2004|81 years 07 months|    480000.0|\n",
      "|2021-10-01 00:00:00|PUNGGOL|   4 ROOM| 167C|    PUNGGOL EAST|    10 TO 12|          92.0|Premium Apartment|               2009|86 years 06 months|    480000.0|\n",
      "|2021-10-01 00:00:00|PUNGGOL|   4 ROOM| 673C|EDGEFIELD PLAINS|    16 TO 18|          90.0|          Model A|               2015|93 years 03 months|    482000.0|\n",
      "|2021-10-01 00:00:00|PUNGGOL|   4 ROOM| 213A|    PUNGGOL WALK|    07 TO 09|          93.0|          Model A|               2015|92 years 07 months|    483000.0|\n",
      "+-------------------+-------+---------+-----+----------------+------------+--------------+-----------------+-------------------+------------------+------------+\n",
      "only showing top 5 rows\n",
      "\n"
     ]
    }
   ],
   "source": [
    "resale_flat_prices_df = spark.sql(\"SELECT * FROM resale_flat_prices\")\n",
    "resale_flat_prices_df.show(5)"
   ]
  },
  {
   "cell_type": "code",
   "execution_count": 7,
   "id": "a8748e78-761a-4ff5-bd1a-f4c6d0219651",
   "metadata": {},
   "outputs": [
    {
     "name": "stdout",
     "output_type": "stream",
     "text": [
      "+-------------------+---------+-------+\n",
      "|           col_name|data_type|comment|\n",
      "+-------------------+---------+-------+\n",
      "|              month|timestamp|   NULL|\n",
      "|               town|   string|   NULL|\n",
      "|          flat_type|   string|   NULL|\n",
      "|              block|   string|   NULL|\n",
      "|        street_name|   string|   NULL|\n",
      "|       storey_range|   string|   NULL|\n",
      "|     floor_area_sqm|   double|   NULL|\n",
      "|         flat_model|   string|   NULL|\n",
      "|lease_commence_date|      int|   NULL|\n",
      "|    remaining_lease|   string|   NULL|\n",
      "|       resale_price|   double|   NULL|\n",
      "+-------------------+---------+-------+\n",
      "\n"
     ]
    }
   ],
   "source": [
    "spark.sql(\"DESCRIBE resale_flat_prices\").show()"
   ]
  },
  {
   "cell_type": "markdown",
   "id": "5b6d0f99-9051-48b4-b3b9-d2dac411807e",
   "metadata": {},
   "source": [
    "## Data Exploration"
   ]
  },
  {
   "cell_type": "code",
   "execution_count": null,
   "id": "0360329d-bfc2-47f5-b108-d6a0cc9280db",
   "metadata": {},
   "outputs": [],
   "source": [
    "spark.sql(\"\"\"\n",
    "    select \n",
    "        count(distinct town) as town_number,\n",
    "        count(distinct flat_type) as flat_type_number,\n",
    "        count(distinct flat_model) as flat_model_number\n",
    "    from resale_flat_prices\n",
    "\"\"\").show()"
   ]
  },
  {
   "cell_type": "code",
   "execution_count": null,
   "id": "96c16c11-bd4c-45a7-839b-554bf5d230f4",
   "metadata": {},
   "outputs": [],
   "source": [
    "spark.sql(\"\"\"\n",
    "    select distinct flat_type\n",
    "    from resale_flat_prices\n",
    "\"\"\").show()"
   ]
  },
  {
   "cell_type": "markdown",
   "id": "b24c8897-a6bc-412f-93a7-4c28ba618274",
   "metadata": {},
   "source": [
    "### Flat Number Per Town"
   ]
  },
  {
   "cell_type": "code",
   "execution_count": null,
   "id": "9df11552-0696-49c3-87c2-a5f84ce6468d",
   "metadata": {},
   "outputs": [],
   "source": [
    "avg_flats_df = spark.sql(\"\"\"\n",
    "    select \n",
    "        town,\n",
    "        count(*) as flat_number\n",
    "    from resale_flat_prices\n",
    "    group by town\n",
    "    order by 2 desc\n",
    "\"\"\")\n",
    "\n",
    "avg_flats_pd = avg_flats_df.toPandas()"
   ]
  },
  {
   "cell_type": "code",
   "execution_count": null,
   "id": "09f48227-c5ae-44c0-bf6d-8b4f5a76f0ed",
   "metadata": {},
   "outputs": [],
   "source": [
    "plt.figure(figsize=(15, 5))\n",
    "sns.barplot(x='town', y='flat_number', hue='town', data=avg_flats_pd, palette='coolwarm')\n",
    "plt.xlabel('Town')\n",
    "plt.ylabel('Average Number of Flats Sold')\n",
    "plt.title('Average Number of Flats Sold Per Town')\n",
    "plt.xticks(rotation=45)\n",
    "plt.show()"
   ]
  },
  {
   "cell_type": "markdown",
   "id": "c2920111-adac-460e-a0c4-2df60ed27276",
   "metadata": {},
   "source": [
    "### Average Flat Price Per Town"
   ]
  },
  {
   "cell_type": "markdown",
   "id": "bec8531f-8ba3-4e4c-b58c-d8540aa4c566",
   "metadata": {},
   "source": [
    "#### 2024\n",
    "- Until April"
   ]
  },
  {
   "cell_type": "code",
   "execution_count": null,
   "id": "e93fb17b-db33-424f-968b-d6ed2bbdd521",
   "metadata": {},
   "outputs": [],
   "source": [
    "avg_price_df = spark.sql(\"\"\"\n",
    "    select \n",
    "        town,\n",
    "        flat_type,\n",
    "        avg(resale_price) as avg_price\n",
    "    from resale_flat_prices    \n",
    "    where \n",
    "        flat_type not in ('EXECUTIVE', 'MULTI-GENERATION') \n",
    "        and year(month) = '2024'\n",
    "    group by town, flat_type\n",
    "    order by avg_price desc \n",
    "\"\"\")\n",
    "\n",
    "avg_price_pd = avg_price_df.toPandas()"
   ]
  },
  {
   "cell_type": "code",
   "execution_count": null,
   "id": "54d3b400-ca2b-462a-85b6-2c2bb221d4f8",
   "metadata": {},
   "outputs": [],
   "source": [
    "plt.figure(figsize=(20, 5))\n",
    "ax = sns.barplot(x='town', y='avg_price', hue='flat_type', data=avg_price_pd, palette='coolwarm')\n",
    "plt.xlabel('Town')\n",
    "plt.ylabel('Average Resale Price')\n",
    "plt.title('Average Resale Price of Different Flat Types Per Town')\n",
    "plt.legend(title='Flat Type')\n",
    "plt.xticks(rotation=45)\n",
    "\n",
    "ax.grid(True, which='both', axis='y', linestyle='--', linewidth=0.5)  # Customize the grid lines\n",
    "\n",
    "plt.show()"
   ]
  },
  {
   "cell_type": "code",
   "execution_count": 8,
   "id": "aede016d-1628-415c-8858-142d89ab4690",
   "metadata": {},
   "outputs": [],
   "source": [
    "spark.stop()"
   ]
  }
 ],
 "metadata": {
  "kernelspec": {
   "display_name": "Python 3 (ipykernel)",
   "language": "python",
   "name": "python3"
  },
  "language_info": {
   "codemirror_mode": {
    "name": "ipython",
    "version": 3
   },
   "file_extension": ".py",
   "mimetype": "text/x-python",
   "name": "python",
   "nbconvert_exporter": "python",
   "pygments_lexer": "ipython3",
   "version": "3.11.6"
  }
 },
 "nbformat": 4,
 "nbformat_minor": 5
}
