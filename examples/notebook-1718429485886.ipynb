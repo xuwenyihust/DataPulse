{
 "cells": [
  {
   "cell_type": "code",
   "lastExecutionResult": null,
   "lastExecutionTime": null,
   "metadata": {},
   "outputs": [],
   "source": [
    "# My Notebook"
   ]
  },
  {
   "cell_type": "code",
   "execution_count": 1,
   "lastExecutionResult": null,
   "lastExecutionTime": null,
   "metadata": {},
   "outputs": [],
   "source": [
    "# SparkSession: spark is already created\n",
    "spark"
   ]
  }
 ],
 "metadata": {
  "kernelspec": {
   "display_name": "Python 3",
   "name": "python3"
  },
  "language_info": {
   "name": "python"
  }
 },
 "nbformat": 4,
 "nbformat_minor": 4
}
