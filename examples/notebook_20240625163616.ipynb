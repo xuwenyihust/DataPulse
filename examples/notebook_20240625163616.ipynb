{
 "cells": [
  {
   "cell_type": "markdown",
   "metadata": {},
   "source": [
    "# My Notebook"
   ]
  },
  {
   "cell_type": "code",
   "execution_count": 1,
   "metadata": {},
   "outputs": [],
   "source": [
    "# SparkSession: spark is already created\n",
    "spark"
   ]
  }
 ],
 "metadata": {
  "kernelspec": {
   "display_name": "Python 3",
   "name": "python3"
  },
  "language_info": {
   "name": "python"
  },
  "uuid": "b8663ee4-f9e3-426c-a4df-50f5a39b5fd7"
 },
 "nbformat": 4,
 "nbformat_minor": 4
}
