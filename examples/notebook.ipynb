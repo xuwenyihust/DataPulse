{
 "cells": [
  {
   "cell_type": "markdown",
   "lastExecutionResult": null,
   "lastExecutionTime": null,
   "metadata": {},
   "outputs": [],
   "source": [
    "# My Notebook\n",
    "\n",
    "- Just a demo notebook for testing"
   ]
  },
  {
   "cell_type": "code",
   "execution_count": null,
   "lastExecutionResult": "success",
   "lastExecutionTime": "2024-06-17 13:30:52",
   "metadata": {},
   "outputs": [
    {
     "data": {
      "text/plain": [
       "666"
      ]
     },
     "execution_count": 10,
     "metadata": {},
     "output_type": "execute_result"
    }
   ],
   "source": [
    "666"
   ]
  },
  {
   "cell_type": "code",
   "execution_count": null,
   "lastExecutionResult": "success",
   "lastExecutionTime": "2024-06-17 14:07:24",
   "metadata": {},
   "outputs": [
    {
     "data": {
      "text/plain": [
       "333"
      ]
     },
     "execution_count": 15,
     "metadata": {},
     "output_type": "execute_result"
    }
   ],
   "source": [
    "333"
   ]
  },
  {
   "cell_type": "code",
   "execution_count": 1,
   "lastExecutionResult": "error",
   "lastExecutionTime": "2024-06-17 13:30:59",
   "metadata": {},
   "outputs": [
    {
     "ename": "NameError",
     "evalue": "name 'qegnvoign' is not defined",
     "output_type": "error",
     "traceback": [
      "\u001b[0;31m---------------------------------------------------------------------------\u001b[0m",
      "\u001b[0;31mNameError\u001b[0m                                 Traceback (most recent call last)",
      "Cell \u001b[0;32mIn[12], line 1\u001b[0m\n\u001b[0;32m----> 1\u001b[0m \u001b[38;5;28mprint\u001b[39m(\u001b[43mqegnvoign\u001b[49m)          \n",
      "\u001b[0;31mNameError\u001b[0m: name 'qegnvoign' is not defined"
     ]
    }
   ],
   "source": [
    "print(qegnvoign)          "
   ]
  },
  {
   "cell_type": "code",
   "execution_count": null,
   "lastExecutionResult": null,
   "lastExecutionTime": null,
   "metadata": {},
   "outputs": [],
   "source": [
    "import time\n",
    "time.sleep(5)"
   ]
  },
  {
   "cell_type": "code",
   "execution_count": null,
   "lastExecutionResult": "success",
   "lastExecutionTime": "2024-06-17 14:07:43",
   "metadata": {},
   "outputs": [
    {
     "name": "stdout",
     "output_type": "stream",
     "text": [
      "222\n"
     ]
    }
   ],
   "source": [
    "print(222)"
   ]
  },
  {
   "cell_type": "code",
   "execution_count": null,
   "lastExecutionResult": null,
   "lastExecutionTime": null,
   "metadata": {},
   "outputs": [],
   "source": []
  }
 ],
 "metadata": {
  "kernelspec": {
   "display_name": "Python 3 (ipykernel)",
   "language": "python",
   "name": "python3"
  },
  "language_info": {
   "codemirror_mode": {
    "name": "ipython",
    "version": 3
   },
   "file_extension": ".py",
   "mimetype": "text/x-python",
   "name": "python",
   "nbconvert_exporter": "python",
   "pygments_lexer": "ipython3",
   "version": "3.11.6"
  }
 },
 "nbformat": 4,
 "nbformat_minor": 4
}
