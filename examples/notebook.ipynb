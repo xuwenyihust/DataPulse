{
 "cells": [
  {
   "cell_type": "markdown",
   "lastExecutionResult": null,
   "lastExecutionTime": null,
   "metadata": {},
   "outputs": [],
   "source": [
    "# My Notebook\n",
    "\n",
    "- Just a demo notebook for testing"
   ]
  },
  {
   "cell_type": "code",
   "execution_count": null,
   "lastExecutionResult": "success",
   "lastExecutionTime": "2024-06-17 13:12:29",
   "metadata": {},
   "outputs": [
    {
     "data": {
      "text/plain": [
       "666"
      ]
     },
     "execution_count": 3,
     "metadata": {},
     "output_type": "execute_result"
    }
   ],
   "source": [
    "666"
   ]
  },
  {
   "cell_type": "code",
   "execution_count": null,
   "lastExecutionResult": "success",
   "lastExecutionTime": "2024-06-17 13:12:29",
   "metadata": {},
   "outputs": [],
   "source": [
    "333"
   ]
  },
  {
   "cell_type": "code",
   "execution_count": 1,
   "lastExecutionResult": "success",
   "lastExecutionTime": "2024-06-17 13:12:29",
   "metadata": {},
   "outputs": [],
   "source": [
    "print(qegnvoign)          "
   ]
  },
  {
   "cell_type": "code",
   "execution_count": null,
   "lastExecutionResult": "success",
   "lastExecutionTime": "2024-06-17 13:12:29",
   "metadata": {},
   "outputs": [],
   "source": [
    "import time\n",
    "time.sleep(5)"
   ]
  },
  {
   "cell_type": "code",
   "execution_count": null,
   "lastExecutionResult": "success",
   "lastExecutionTime": "2024-06-17 13:12:29",
   "metadata": {},
   "outputs": [],
   "source": [
    "print(222)"
   ]
  },
  {
   "cell_type": "code",
   "execution_count": null,
   "lastExecutionResult": "success",
   "lastExecutionTime": "2024-06-17 13:12:29",
   "metadata": {},
   "outputs": [],
   "source": []
  }
 ],
 "metadata": {
  "kernelspec": {
   "display_name": "Python 3 (ipykernel)",
   "language": "python",
   "name": "python3"
  },
  "language_info": {
   "codemirror_mode": {
    "name": "ipython",
    "version": 3
   },
   "file_extension": ".py",
   "mimetype": "text/x-python",
   "name": "python",
   "nbconvert_exporter": "python",
   "pygments_lexer": "ipython3",
   "version": "3.11.6"
  }
 },
 "nbformat": 4,
 "nbformat_minor": 4
}
