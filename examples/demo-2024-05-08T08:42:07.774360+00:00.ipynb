{
 "cells": [
  {
   "cell_type": "code",
   "execution_count": null,
   "id": "c2562e81",
   "metadata": {
    "jupyter": {
     "source_hidden": true
    },
    "papermill": {
     "duration": null,
     "end_time": null,
     "exception": null,
     "start_time": null,
     "status": "completed"
    },
    "tags": []
   },
   "outputs": [],
   "source": [
    "print(666)"
   ]
  },
  {
   "cell_type": "code",
   "execution_count": null,
   "id": "454c72b9",
   "metadata": {
    "jupyter": {
     "source_hidden": true
    },
    "notebookRunGroups": {
     "groupValue": ""
    },
    "papermill": {
     "duration": null,
     "end_time": null,
     "exception": null,
     "start_time": null,
     "status": "completed"
    },
    "tags": []
   },
   "outputs": [],
   "source": [
    "# from pyspark.sql import SparkSession"
   ]
  },
  {
   "cell_type": "code",
   "execution_count": null,
   "id": "3b583579",
   "metadata": {
    "jupyter": {
     "source_hidden": true
    },
    "papermill": {
     "duration": null,
     "end_time": null,
     "exception": null,
     "start_time": null,
     "status": "completed"
    },
    "tags": []
   },
   "outputs": [],
   "source": [
    "# # Create a SparkSession\n",
    "# spark = SparkSession.builder \\\n",
    "#     .appName(\"PySpark Example\") \\\n",
    "#     .master(\"k8s://https://34.128.125.201:443\") \\\n",
    "#     .config(\"spark.submit.deployMode\", \"client\") \\\n",
    "#     .config(\"spark.driver.host\", \"notebook-cluster-ip.spark-dev.svc.cluster.local\") \\\n",
    "#     .config(\"spark.driver.cores\", \"1\") \\\n",
    "#     .config(\"spark.driver.memory\", \"1g\") \\\n",
    "#     .config(\"spark.executor.instances\", \"1\") \\\n",
    "#     .config(\"spark.executor.cores\", \"1\") \\\n",
    "#     .config(\"spark.executor.memory\", \"1g\") \\\n",
    "#     .config(\"spark.kubernetes.namespace\", \"spark-dev\") \\\n",
    "#     .config(\"spark.kubernetes.container.image\", \"wenyixu101/spark:3.5.0-python3.11\") \\\n",
    "#     .config(\"spark.kubernetes.authenticate.driver.serviceAccountName\", \"spark\") \\\n",
    "#     .config(\"spark.kubernetes.authenticate.executor.serviceAccountName\", \"spark\") \\\n",
    "#     .getOrCreate()"
   ]
  },
  {
   "cell_type": "code",
   "execution_count": null,
   "id": "d20c477e",
   "metadata": {
    "jupyter": {
     "source_hidden": true
    },
    "papermill": {
     "duration": null,
     "end_time": null,
     "exception": null,
     "start_time": null,
     "status": "completed"
    },
    "tags": []
   },
   "outputs": [],
   "source": [
    "# # Create a DataFrame\n",
    "# df = spark.createDataFrame([(1, 'foo'), (2, 'bar')], [\"ID\", \"Value\"])\n",
    "\n",
    "# # Show the DataFrame\n",
    "# df.show()"
   ]
  }
 ],
 "metadata": {
  "kernelspec": {
   "display_name": "Python 3",
   "language": "python",
   "name": "python3"
  },
  "language_info": {
   "codemirror_mode": {
    "name": "ipython",
    "version": 3
   },
   "file_extension": ".py",
   "mimetype": "text/x-python",
   "name": "python",
   "nbconvert_exporter": "python",
   "pygments_lexer": "ipython3",
   "version": "3.8.2"
  },
  "papermill": {
   "default_parameters": {},
   "duration": 0.89392,
   "end_time": "2024-05-08T08:47:13.973339",
   "environment_variables": {},
   "exception": null,
   "input_path": "/opt/airflow/examples/demo.ipynb",
   "output_path": "/opt/airflow/examples/demo-2024-05-08T08:42:07.774360+00:00.ipynb",
   "parameters": {},
   "start_time": "2024-05-08T08:47:13.079419",
   "version": "2.3.4"
  }
 },
 "nbformat": 4,
 "nbformat_minor": 5
}