{
 "cells": [
  {
   "cell_type": "code",
   "execution_count": 1,
   "metadata": {},
   "outputs": [
    {
     "data": {
      "text/html": [
       "\n",
       "        <div style=\"border: 1px solid #e8e8e8; padding: 10px;\">\n",
       "            <h3>Spark Session Information</h3>\n",
       "            <p><strong>Application ID:</strong> app-20240524023037-0002</p>\n",
       "            <p><strong>Spark UI:</strong> <a href=\"http://localhost:18080/history/app-20240524023037-0002\">http://localhost:18080/history/app-20240524023037-0002</a></p>\n",
       "        </div>\n",
       "        "
      ],
      "text/plain": [
       "Custom Spark Session (App ID: app-20240524023037-0002) - UI: http://185cae7f8c46:4040"
      ]
     },
     "execution_count": 1,
     "metadata": {},
     "output_type": "execute_result"
    }
   ],
   "source": [
    "spark"
   ]
  }
 ],
 "metadata": {
  "kernelspec": {
   "display_name": "Python 3 (ipykernel)",
   "language": "python",
   "name": "python3"
  },
  "language_info": {
   "codemirror_mode": {
    "name": "ipython",
    "version": 3
   },
   "file_extension": ".py",
   "mimetype": "text/x-python",
   "name": "python",
   "nbconvert_exporter": "python",
   "pygments_lexer": "ipython3",
   "version": "3.11.6"
  }
 },
 "nbformat": 4,
 "nbformat_minor": 4
}
