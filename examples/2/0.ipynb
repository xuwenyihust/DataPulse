{
 "cells": [
  {
   "cell_type": "markdown",
   "lastExecutionResult": null,
   "lastExecutionTime": null,
   "metadata": {},
   "source": [
    "# My Notebook"
   ]
  },
  {
   "cell_type": "code",
   "execution_count": null,
   "lastExecutionResult": "success",
   "lastExecutionTime": "2024-06-15 02:14:31",
   "metadata": {},
   "outputs": [
    {
     "name": "stdout",
     "output_type": "stream",
     "text": [
      "666\n"
     ]
    }
   ],
   "source": [
    "print(666)"
   ]
  },
  {
   "cell_type": "code",
   "execution_count": 1,
   "lastExecutionResult": null,
   "lastExecutionTime": null,
   "metadata": {},
   "outputs": [],
   "source": [
    "# SparkSession: spark is already created\n",
    "spark"
   ]
  }
 ],
 "metadata": {
  "kernelspec": {
   "display_name": "Python 3",
   "name": "python3"
  },
  "language_info": {
   "name": "python"
  }
 },
 "nbformat": 4,
 "nbformat_minor": 4
}
