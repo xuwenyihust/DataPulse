{
 "cells": [
  {
   "cell_type": "markdown",
   "metadata": {},
   "source": [
    "# DataPulse\n",
    "\n",
    "## QuickStart\n",
    "- Test by running\n",
    "  ```\n",
    "  spark = SparkSession.builder \\\n",
    "        .appName(\"PySpark Example\") \\\n",
    "        .master(spark_master) \\\n",
    "        .config(\"spark.jars.packages\", \"io.delta:delta-spark_2.12:3.0.0\") \\\n",
    "        .config(\"spark.sql.extensions\", \"io.delta.sql.DeltaSparkSessionExtension\") \\\n",
    "        .config(\"spark.sql.catalog.spark_catalog\", \"org.apache.spark.sql.delta.catalog.DeltaCatalog\") \\\n",
    "        .config(\"spark.eventLog.enabled\", \"true\") \\\n",
    "        .config(\"spark.eventLog.dir\", \"/opt/data/spark-events\") \\\n",
    "        .config(\"spark.history.fs.logDirectory\", \"/opt/data/spark-events\") \\\n",
    "        .config(\"spark.sql.warehouse.dir\", \"/opt/data/spark-warehouse\") \\\n",
    "        .config(\"executor.memory\", \"1g\") \\\n",
    "        .config(\"executor.cores\", \"1\") \\\n",
    "        .config(\"spark.executor.instances\", \"1\") \\\n",
    "        .getOrCreate()\n",
    "\n",
    "  spark.range(0, 5) \\\n",
    "    .write \\\n",
    "    .format(\"delta\") \\\n",
    "    .mode(\"overwrite\") \\\n",
    "    .save(\"/opt/data/delta-table/demo_0\")\n",
    "\n",
    "  df = spark.read.format(\"delta\").load(\"/opt/data/delta-table/demo_0\")\n",
    "  df.show()\n",
    "  ```"
   ]
  }
 ],
 "metadata": {
  "kernelspec": {
   "display_name": "Python 3 (ipykernel)",
   "language": "python",
   "name": "python3"
  },
  "language_info": {
   "codemirror_mode": {
    "name": "ipython",
    "version": 3
   },
   "file_extension": ".py",
   "mimetype": "text/x-python",
   "name": "python",
   "nbconvert_exporter": "python",
   "pygments_lexer": "ipython3",
   "version": "3.11.6"
  }
 },
 "nbformat": 4,
 "nbformat_minor": 4
}
