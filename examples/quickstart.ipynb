{
 "cells": [
  {
   "cell_type": "markdown",
   "metadata": {},
   "source": [
    "# DataPulse\n",
    "\n",
    "## QuickStart\n",
    "- Test by running\n",
    "  ```\n",
    "  spark = SparkSession.builder \\\n",
    "        .appName(\"PySpark Example\") \\\n",
    "        .master(spark_master) \\\n",
    "        .config(\"spark.jars.packages\", \"io.delta:delta-spark_2.12:3.0.0\") \\\n",
    "        .config(\"spark.sql.extensions\", \"io.delta.sql.DeltaSparkSessionExtension\") \\\n",
    "        .config(\"spark.sql.catalog.spark_catalog\", \"org.apache.spark.sql.delta.catalog.DeltaCatalog\") \\\n",
    "        .config(\"spark.eventLog.enabled\", \"true\") \\\n",
    "        .config(\"spark.eventLog.dir\", \"/opt/data/spark-events\") \\\n",
    "        .config(\"spark.history.fs.logDirectory\", \"/opt/data/spark-events\") \\\n",
    "        .config(\"spark.sql.warehouse.dir\", \"/opt/data/spark-warehouse\") \\\n",
    "        .config(\"executor.memory\", \"1g\") \\\n",
    "        .config(\"executor.cores\", \"1\") \\\n",
    "        .config(\"spark.executor.instances\", \"1\") \\\n",
    "        .getOrCreate()\n",
    "\n",
    "  spark.range(0, 5) \\\n",
    "    .write \\\n",
    "    .format(\"delta\") \\\n",
    "    .mode(\"overwrite\") \\\n",
    "    .save(\"/opt/data/delta-table/demo_0\")\n",
    "\n",
    "  df = spark.read.format(\"delta\").load(\"/opt/data/delta-table/demo_0\")\n",
    "  df.show()\n",
    "  ```"
   ]
  }
 ],
 "metadata": {
  "language_info": {
   "name": "python"
  }
 },
 "nbformat": 4,
 "nbformat_minor": 2
}
