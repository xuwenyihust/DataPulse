{
 "cells": [
  {
   "cell_type": "markdown",
   "metadata": {},
   "source": [
    "# DataPulse\n",
    "\n",
    "## QuickStart\n",
    "- Spark Session is already created as `spark`\n",
    "- Test by running\n",
    "  ```\n",
    "  spark.range(0, 5) \\\n",
    "    .write \\\n",
    "    .format(\"delta\") \\\n",
    "    .mode(\"overwrite\") \\\n",
    "    .save(\"/opt/data/delta-table/demo_0\")\n",
    "\n",
    "  df = spark.read.format(\"delta\").load(\"/opt/data/delta-table/demo_0\")\n",
    "  df.show()\n",
    "  ```"
   ]
  }
 ],
 "metadata": {
  "language_info": {
   "name": "python"
  }
 },
 "nbformat": 4,
 "nbformat_minor": 2
}
